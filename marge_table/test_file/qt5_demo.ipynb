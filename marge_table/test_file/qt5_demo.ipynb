{
 "cells": [
  {
   "cell_type": "code",
   "execution_count": 1,
   "metadata": {},
   "outputs": [
    {
     "ename": "SystemExit",
     "evalue": "0",
     "output_type": "error",
     "traceback": [
      "An exception has occurred, use %tb to see the full traceback.\n",
      "\u001b[1;31mSystemExit\u001b[0m\u001b[1;31m:\u001b[0m 0\n"
     ]
    },
    {
     "name": "stderr",
     "output_type": "stream",
     "text": [
      "C:\\Users\\Administrator\\AppData\\Roaming\\Python\\Python38\\site-packages\\IPython\\core\\interactiveshell.py:3449: UserWarning: To exit: use 'exit', 'quit', or Ctrl-D.\n",
      "  warn(\"To exit: use 'exit', 'quit', or Ctrl-D.\", stacklevel=1)\n"
     ]
    }
   ],
   "source": [
    "'''\n",
    "Author: xzhouinfo\n",
    "Date: 2022-01-20 22:11:38\n",
    "LastEditors: xzhouinfo\n",
    "LastEditTime: 2022-01-20 22:11:50\n",
    "Description: qt5_demo\n",
    "'''\n",
    "\n",
    "import sys\n",
    "from PyQt5.QtWidgets import QApplication, QLabel, QWidget\n",
    "\n",
    "if __name__ == \"__main__\":\n",
    "    app = QApplication(sys.argv)\n",
    "    # label = QLabel('hello world')\n",
    "    w = QWidget()\n",
    "    # label = QLabel('<font color=\"red\">Hello</font> <h1>World</h1>')\n",
    "    w.resize(300,500)\n",
    "    w.setWindowTitle('hello')\n",
    "    # label.show()\n",
    "    w.label = QLabel('<font color=\"red\">Hello</font> <h1>World</h1>')\n",
    "    w.show()\n",
    "    sys.exit(app.exec_())"
   ]
  },
  {
   "cell_type": "code",
   "execution_count": 1,
   "metadata": {},
   "outputs": [
    {
     "ename": "SystemExit",
     "evalue": "0",
     "output_type": "error",
     "traceback": [
      "An exception has occurred, use %tb to see the full traceback.\n",
      "\u001b[1;31mSystemExit\u001b[0m\u001b[1;31m:\u001b[0m 0\n"
     ]
    },
    {
     "name": "stderr",
     "output_type": "stream",
     "text": [
      "C:\\Users\\Administrator\\AppData\\Roaming\\Python\\Python38\\site-packages\\IPython\\core\\interactiveshell.py:3449: UserWarning: To exit: use 'exit', 'quit', or Ctrl-D.\n",
      "  warn(\"To exit: use 'exit', 'quit', or Ctrl-D.\", stacklevel=1)\n"
     ]
    }
   ],
   "source": [
    "import sys\n",
    "from PyQt5.QtWidgets import QApplication, QLabel, QWidget\n",
    "from PyQt5.QtGui import QIcon\n",
    "class Example(QWidget):\n",
    "\n",
    "    def __init__(self):\n",
    "        super().__init__()\n",
    "\n",
    "        self.initUI()\n",
    "\n",
    "\n",
    "    def initUI(self):\n",
    "\n",
    "        self.setGeometry(300, 300, 300, 220)\n",
    "        self.setWindowTitle('Icon')\n",
    "        self.setWindowIcon(QIcon('web.png'))        \n",
    "\n",
    "        self.show()\n",
    "\n",
    "\n",
    "if __name__ == '__main__':\n",
    "\n",
    "    app = QApplication(sys.argv)\n",
    "    ex = Example()\n",
    "    sys.exit(app.exec_())"
   ]
  },
  {
   "cell_type": "code",
   "execution_count": 1,
   "metadata": {},
   "outputs": [
    {
     "ename": "SystemExit",
     "evalue": "0",
     "output_type": "error",
     "traceback": [
      "An exception has occurred, use %tb to see the full traceback.\n",
      "\u001b[1;31mSystemExit\u001b[0m\u001b[1;31m:\u001b[0m 0\n"
     ]
    },
    {
     "name": "stderr",
     "output_type": "stream",
     "text": [
      "C:\\Users\\Administrator\\AppData\\Roaming\\Python\\Python38\\site-packages\\IPython\\core\\interactiveshell.py:3449: UserWarning: To exit: use 'exit', 'quit', or Ctrl-D.\n",
      "  warn(\"To exit: use 'exit', 'quit', or Ctrl-D.\", stacklevel=1)\n"
     ]
    }
   ],
   "source": [
    "#!/usr/bin/python3\n",
    "# -*- coding: utf-8 -*-\n",
    "\n",
    "\"\"\"\n",
    "ZetCode PyQt5 tutorial \n",
    "\n",
    "This program shows a confirmation \n",
    "message box when we click on the close\n",
    "button of the application window. \n",
    "\n",
    "Author: Jan Bodnar\n",
    "Website: zetcode.com \n",
    "Last edited: August 2017\n",
    "\"\"\"\n",
    "\n",
    "import sys\n",
    "from PyQt5.QtWidgets import QWidget, QMessageBox, QApplication\n",
    "\n",
    "\n",
    "class Example(QWidget):\n",
    "\n",
    "    def __init__(self):\n",
    "        super().__init__()\n",
    "\n",
    "        self.initUI()\n",
    "\n",
    "\n",
    "    def initUI(self):               \n",
    "\n",
    "        self.setGeometry(300, 300, 250, 150)        \n",
    "        self.setWindowTitle('Message box')    \n",
    "        self.show()\n",
    "\n",
    "\n",
    "    def closeEvent(self, event):\n",
    "\n",
    "        reply = QMessageBox.question(self, 'Message',\n",
    "            \"Are you sure to quit?\", QMessageBox.Yes | \n",
    "            QMessageBox.No, QMessageBox.No)\n",
    "\n",
    "        if reply == QMessageBox.Yes:\n",
    "            event.accept()\n",
    "        else:\n",
    "            event.ignore()        \n",
    "\n",
    "\n",
    "if __name__ == '__main__':\n",
    "\n",
    "    app = QApplication(sys.argv)\n",
    "    ex = Example()\n",
    "    sys.exit(app.exec_())"
   ]
  }
 ],
 "metadata": {
  "interpreter": {
   "hash": "3fda530cbbbbdf70a8c8b2c4d734a6f8b3188d47117277f624af25d49ff350fc"
  },
  "kernelspec": {
   "display_name": "Python 3.9.9 64-bit (windows store)",
   "language": "python",
   "name": "python3"
  },
  "language_info": {
   "codemirror_mode": {
    "name": "ipython",
    "version": 3
   },
   "file_extension": ".py",
   "mimetype": "text/x-python",
   "name": "python",
   "nbconvert_exporter": "python",
   "pygments_lexer": "ipython3",
   "version": "3.8.8"
  },
  "orig_nbformat": 4
 },
 "nbformat": 4,
 "nbformat_minor": 2
}
