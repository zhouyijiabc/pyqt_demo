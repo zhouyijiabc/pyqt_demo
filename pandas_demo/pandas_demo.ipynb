{
 "cells": [
  {
   "cell_type": "code",
   "execution_count": 2,
   "metadata": {},
   "outputs": [],
   "source": [
    "import pandas as pd\n",
    "import numpy as np\n",
    "\n",
    "lst1 = np.random.randint(80,100, size=(10,5))\n",
    "name = ['同学' + str(i) for i in range(10)]\n",
    "col = ['语文', '数学', '英语', '物理', '化学']\n",
    "df = pd.DataFrame(lst1, columns=col, index=name)\n",
    "df.to_excel('test.xlsx')"
   ]
  },
  {
   "cell_type": "code",
   "execution_count": 4,
   "metadata": {},
   "outputs": [],
   "source": [
    "import string\n",
    "import random\n",
    "l1 = [''.join(random.sample(string.ascii_letters,6)) + str(i) for i in range(20)]\n",
    "# np.random.choice(l1, size=(1,10))\n",
    "df = pd.read_excel('test.xlsx')\n",
    "df['地理'] = np.random.randint(80,100, size=(1,10)).tolist()[0]\n",
    "df['随机'] = np.random.choice(l1, size=(1,10)).tolist()[0]  \n",
    "df.rename(columns={\"Unnamed: 0\":'名字'}, inplace=True) # 修改列名\n",
    "df.insert(0, '随机1', np.random.choice(l1, size=(1,10)).tolist()[0])  # 在第0列增加 列名为 随机1，的一列随机数据\n",
    "\n",
    "\n",
    "# df.to_excel('text1.xlsx', index=False)"
   ]
  },
  {
   "cell_type": "code",
   "execution_count": 9,
   "metadata": {},
   "outputs": [
    {
     "data": {
      "text/html": [
       "<div>\n",
       "<style scoped>\n",
       "    .dataframe tbody tr th:only-of-type {\n",
       "        vertical-align: middle;\n",
       "    }\n",
       "\n",
       "    .dataframe tbody tr th {\n",
       "        vertical-align: top;\n",
       "    }\n",
       "\n",
       "    .dataframe thead th {\n",
       "        text-align: right;\n",
       "    }\n",
       "</style>\n",
       "<table border=\"1\" class=\"dataframe\">\n",
       "  <thead>\n",
       "    <tr style=\"text-align: right;\">\n",
       "      <th></th>\n",
       "      <th>随机1</th>\n",
       "      <th>名字</th>\n",
       "      <th>语文</th>\n",
       "      <th>数学</th>\n",
       "      <th>英语</th>\n",
       "      <th>物理</th>\n",
       "      <th>化学</th>\n",
       "      <th>地理</th>\n",
       "      <th>随机</th>\n",
       "    </tr>\n",
       "  </thead>\n",
       "  <tbody>\n",
       "    <tr>\n",
       "      <th>0</th>\n",
       "      <td>QUKTHs4</td>\n",
       "      <td>同学0</td>\n",
       "      <td>84</td>\n",
       "      <td>87</td>\n",
       "      <td>84</td>\n",
       "      <td>89</td>\n",
       "      <td>97</td>\n",
       "      <td>90</td>\n",
       "      <td>wGPJLm17</td>\n",
       "    </tr>\n",
       "    <tr>\n",
       "      <th>1</th>\n",
       "      <td>bomYcU15</td>\n",
       "      <td>同学1</td>\n",
       "      <td>91</td>\n",
       "      <td>86</td>\n",
       "      <td>90</td>\n",
       "      <td>85</td>\n",
       "      <td>97</td>\n",
       "      <td>87</td>\n",
       "      <td>LHamPZ19</td>\n",
       "    </tr>\n",
       "    <tr>\n",
       "      <th>2</th>\n",
       "      <td>upAVxX8</td>\n",
       "      <td>同学2</td>\n",
       "      <td>93</td>\n",
       "      <td>88</td>\n",
       "      <td>80</td>\n",
       "      <td>88</td>\n",
       "      <td>94</td>\n",
       "      <td>93</td>\n",
       "      <td>ROXDrI13</td>\n",
       "    </tr>\n",
       "    <tr>\n",
       "      <th>4</th>\n",
       "      <td>ALpTMU3</td>\n",
       "      <td>同学4</td>\n",
       "      <td>98</td>\n",
       "      <td>83</td>\n",
       "      <td>92</td>\n",
       "      <td>98</td>\n",
       "      <td>82</td>\n",
       "      <td>97</td>\n",
       "      <td>KMfVdS0</td>\n",
       "    </tr>\n",
       "    <tr>\n",
       "      <th>6</th>\n",
       "      <td>NQZrkS1</td>\n",
       "      <td>同学6</td>\n",
       "      <td>83</td>\n",
       "      <td>85</td>\n",
       "      <td>97</td>\n",
       "      <td>98</td>\n",
       "      <td>85</td>\n",
       "      <td>92</td>\n",
       "      <td>uEBsbD11</td>\n",
       "    </tr>\n",
       "    <tr>\n",
       "      <th>8</th>\n",
       "      <td>cXfEWD18</td>\n",
       "      <td>同学8</td>\n",
       "      <td>87</td>\n",
       "      <td>89</td>\n",
       "      <td>89</td>\n",
       "      <td>80</td>\n",
       "      <td>87</td>\n",
       "      <td>89</td>\n",
       "      <td>UtgzQD2</td>\n",
       "    </tr>\n",
       "    <tr>\n",
       "      <th>9</th>\n",
       "      <td>uEBsbD11</td>\n",
       "      <td>同学9</td>\n",
       "      <td>83</td>\n",
       "      <td>81</td>\n",
       "      <td>84</td>\n",
       "      <td>96</td>\n",
       "      <td>86</td>\n",
       "      <td>92</td>\n",
       "      <td>upAVxX8</td>\n",
       "    </tr>\n",
       "  </tbody>\n",
       "</table>\n",
       "</div>"
      ],
      "text/plain": [
       "        随机1   名字  语文  数学  英语  物理  化学  地理        随机\n",
       "0   QUKTHs4  同学0  84  87  84  89  97  90  wGPJLm17\n",
       "1  bomYcU15  同学1  91  86  90  85  97  87  LHamPZ19\n",
       "2   upAVxX8  同学2  93  88  80  88  94  93  ROXDrI13\n",
       "4   ALpTMU3  同学4  98  83  92  98  82  97   KMfVdS0\n",
       "6   NQZrkS1  同学6  83  85  97  98  85  92  uEBsbD11\n",
       "8  cXfEWD18  同学8  87  89  89  80  87  89   UtgzQD2\n",
       "9  uEBsbD11  同学9  83  81  84  96  86  92   upAVxX8"
      ]
     },
     "execution_count": 9,
     "metadata": {},
     "output_type": "execute_result"
    }
   ],
   "source": [
    "df1 = df[(df['数学'] < 90) & (df['地理'] > 80)]  # 筛选出数学列小于90 地理大于80的数据的全部数据\n",
    "df1"
   ]
  },
  {
   "cell_type": "code",
   "execution_count": 10,
   "metadata": {},
   "outputs": [
    {
     "name": "stdout",
     "output_type": "stream",
     "text": [
      "        随机1   名字  语文  数学  英语  物理  化学  地理        随机\n",
      "0   QUKTHs4  同学0  84  87  84  89  97  90  wGPJLm17\n",
      "1  bomYcU15  同学1  91  86  90  85  97  87  LHamPZ19\n",
      "2   upAVxX8  同学2  93  88  80  88  94  93  ROXDrI13\n",
      "4   ALpTMU3  同学4  98  83  92  98  82  97   KMfVdS0\n",
      "5   upAVxX8  同学5  94  97  91  86  98  88   vIOKyR9\n",
      "6   NQZrkS1  同学6  83  85  97  98  85  92  uEBsbD11\n",
      "8  cXfEWD18  同学8  87  89  89  80  87  89   UtgzQD2\n",
      "9  uEBsbD11  同学9  83  81  84  96  86  92   upAVxX8\n"
     ]
    },
    {
     "data": {
      "text/html": [
       "<div>\n",
       "<style scoped>\n",
       "    .dataframe tbody tr th:only-of-type {\n",
       "        vertical-align: middle;\n",
       "    }\n",
       "\n",
       "    .dataframe tbody tr th {\n",
       "        vertical-align: top;\n",
       "    }\n",
       "\n",
       "    .dataframe thead th {\n",
       "        text-align: right;\n",
       "    }\n",
       "</style>\n",
       "<table border=\"1\" class=\"dataframe\">\n",
       "  <thead>\n",
       "    <tr style=\"text-align: right;\">\n",
       "      <th></th>\n",
       "      <th>随机1</th>\n",
       "      <th>名字</th>\n",
       "      <th>语文</th>\n",
       "      <th>数学</th>\n",
       "      <th>英语</th>\n",
       "      <th>物理</th>\n",
       "      <th>化学</th>\n",
       "      <th>地理</th>\n",
       "      <th>随机</th>\n",
       "    </tr>\n",
       "  </thead>\n",
       "  <tbody>\n",
       "    <tr>\n",
       "      <th>3</th>\n",
       "      <td>UtgzQD2</td>\n",
       "      <td>同学3</td>\n",
       "      <td>87</td>\n",
       "      <td>97</td>\n",
       "      <td>98</td>\n",
       "      <td>83</td>\n",
       "      <td>98</td>\n",
       "      <td>88</td>\n",
       "      <td>ROXDrI13</td>\n",
       "    </tr>\n",
       "    <tr>\n",
       "      <th>7</th>\n",
       "      <td>zMdjOh7</td>\n",
       "      <td>同学7</td>\n",
       "      <td>87</td>\n",
       "      <td>91</td>\n",
       "      <td>85</td>\n",
       "      <td>94</td>\n",
       "      <td>92</td>\n",
       "      <td>90</td>\n",
       "      <td>LHamPZ19</td>\n",
       "    </tr>\n",
       "  </tbody>\n",
       "</table>\n",
       "</div>"
      ],
      "text/plain": [
       "       随机1   名字  语文  数学  英语  物理  化学  地理        随机\n",
       "3  UtgzQD2  同学3  87  97  98  83  98  88  ROXDrI13\n",
       "7  zMdjOh7  同学7  87  91  85  94  92  90  LHamPZ19"
      ]
     },
     "execution_count": 10,
     "metadata": {},
     "output_type": "execute_result"
    }
   ],
   "source": [
    "df2 = df[~ df['随机1'].str.contains('z')]  # 删除 随机1 包含z的全部数据\n",
    "print(df2)\n",
    "df3 = df[df['随机1'].str.contains('z')] # 查看包含z的行 head(1): 显示2行\n",
    "df3"
   ]
  },
  {
   "cell_type": "code",
   "execution_count": 11,
   "metadata": {},
   "outputs": [
    {
     "data": {
      "text/html": [
       "<div>\n",
       "<style scoped>\n",
       "    .dataframe tbody tr th:only-of-type {\n",
       "        vertical-align: middle;\n",
       "    }\n",
       "\n",
       "    .dataframe tbody tr th {\n",
       "        vertical-align: top;\n",
       "    }\n",
       "\n",
       "    .dataframe thead th {\n",
       "        text-align: right;\n",
       "    }\n",
       "</style>\n",
       "<table border=\"1\" class=\"dataframe\">\n",
       "  <thead>\n",
       "    <tr style=\"text-align: right;\">\n",
       "      <th></th>\n",
       "      <th>名字</th>\n",
       "      <th>语文</th>\n",
       "      <th>数学</th>\n",
       "      <th>英语</th>\n",
       "      <th>物理</th>\n",
       "      <th>化学</th>\n",
       "      <th>地理</th>\n",
       "      <th>随机</th>\n",
       "      <th>随机1</th>\n",
       "    </tr>\n",
       "  </thead>\n",
       "  <tbody>\n",
       "    <tr>\n",
       "      <th>3</th>\n",
       "      <td>同学3</td>\n",
       "      <td>87</td>\n",
       "      <td>97</td>\n",
       "      <td>98</td>\n",
       "      <td>83</td>\n",
       "      <td>98</td>\n",
       "      <td>88</td>\n",
       "      <td>ROXDrI13</td>\n",
       "      <td>UtgzQD2</td>\n",
       "    </tr>\n",
       "    <tr>\n",
       "      <th>7</th>\n",
       "      <td>同学7</td>\n",
       "      <td>87</td>\n",
       "      <td>91</td>\n",
       "      <td>85</td>\n",
       "      <td>94</td>\n",
       "      <td>92</td>\n",
       "      <td>90</td>\n",
       "      <td>LHamPZ19</td>\n",
       "      <td>zMdjOh7</td>\n",
       "    </tr>\n",
       "  </tbody>\n",
       "</table>\n",
       "</div>"
      ],
      "text/plain": [
       "    名字  语文  数学  英语  物理  化学  地理        随机      随机1\n",
       "3  同学3  87  97  98  83  98  88  ROXDrI13  UtgzQD2\n",
       "7  同学7  87  91  85  94  92  90  LHamPZ19  zMdjOh7"
      ]
     },
     "execution_count": 11,
     "metadata": {},
     "output_type": "execute_result"
    }
   ],
   "source": [
    "df4= df3[['名字','语文','数学',\t'英语',\t'物理',\t'化学',\t'地理',\t'随机','随机1']]  # 调整列的顺序\n",
    "df4\n",
    "# df5 = df4.replace(90, 'haha',inplace=True)   #将df4中90换成haha\n",
    "# df5= df4.replace('haha', 90,inplace=True) \n",
    "# print(df5)\n",
    "\n",
    "\n",
    "\n"
   ]
  },
  {
   "cell_type": "code",
   "execution_count": 12,
   "metadata": {},
   "outputs": [
    {
     "ename": "TypeError",
     "evalue": "argument of type 'int' is not iterable",
     "output_type": "error",
     "traceback": [
      "\u001b[1;31m---------------------------------------------------------------------------\u001b[0m",
      "\u001b[1;31mTypeError\u001b[0m                                 Traceback (most recent call last)",
      "Input \u001b[1;32mIn [12]\u001b[0m, in \u001b[0;36m<module>\u001b[1;34m\u001b[0m\n\u001b[0;32m     15\u001b[0m     pd_data_frame[col_name] \u001b[38;5;241m=\u001b[39m obj_list\n\u001b[0;32m     16\u001b[0m     \u001b[38;5;28;01mreturn\u001b[39;00m pd_data_frame\n\u001b[1;32m---> 18\u001b[0m \u001b[38;5;28mprint\u001b[39m(\u001b[43mreplace_col_str\u001b[49m\u001b[43m(\u001b[49m\u001b[43mdf4\u001b[49m\u001b[43m,\u001b[49m\u001b[38;5;124;43m'\u001b[39;49m\u001b[38;5;124;43m地理\u001b[39;49m\u001b[38;5;124;43m'\u001b[39;49m\u001b[43m,\u001b[49m\u001b[43m \u001b[49m\u001b[38;5;241;43m90\u001b[39;49m\u001b[43m,\u001b[49m\u001b[43m \u001b[49m\u001b[38;5;241;43m80\u001b[39;49m\u001b[43m)\u001b[49m)\n",
      "Input \u001b[1;32mIn [12]\u001b[0m, in \u001b[0;36mreplace_col_str\u001b[1;34m(pd_data_frame, col_name, old_obj, new_obj)\u001b[0m\n\u001b[0;32m     11\u001b[0m obj_list \u001b[38;5;241m=\u001b[39m pd_data_frame[col_name]\u001b[38;5;241m.\u001b[39mvalues\u001b[38;5;241m.\u001b[39mtolist()\n\u001b[0;32m     12\u001b[0m \u001b[38;5;28;01mfor\u001b[39;00m index, val \u001b[38;5;129;01min\u001b[39;00m \u001b[38;5;28menumerate\u001b[39m(obj_list):\n\u001b[1;32m---> 13\u001b[0m     \u001b[38;5;28;01mif\u001b[39;00m \u001b[43mold_obj\u001b[49m\u001b[43m \u001b[49m\u001b[38;5;129;43;01min\u001b[39;49;00m\u001b[43m \u001b[49m\u001b[43mval\u001b[49m:\n\u001b[0;32m     14\u001b[0m         obj_list[index] \u001b[38;5;241m=\u001b[39m val\u001b[38;5;241m.\u001b[39mreplace(old_obj, new_obj)\n\u001b[0;32m     15\u001b[0m pd_data_frame[col_name] \u001b[38;5;241m=\u001b[39m obj_list\n",
      "\u001b[1;31mTypeError\u001b[0m: argument of type 'int' is not iterable"
     ]
    }
   ],
   "source": [
    "'''\n",
    "Author: xzhouinfo\n",
    "Date: 2022-01-24 16:41:05\n",
    "LastEditors: hyman\n",
    "LastEditTime: 2022-01-25 22:40:26\n",
    "Description: 各种demo\n",
    "'''\n",
    "# l3 = df4['随机1'].values.tolist()  # 将随机1的值换成列表\n",
    "def replace_col_str(pd_data_frame,col_name,old_obj,new_obj):\n",
    "    # if isinstance()\n",
    "    obj_list = pd_data_frame[col_name].values.tolist()\n",
    "    for index, val in enumerate(obj_list):\n",
    "        if old_obj in val:\n",
    "            obj_list[index] = val.replace(old_obj, new_obj)\n",
    "    pd_data_frame[col_name] = obj_list\n",
    "    return pd_data_frame\n",
    "\n",
    "print(replace_col_str(df4,'地理', 90, 80))\n",
    "# df4\n"
   ]
  },
  {
   "cell_type": "code",
   "execution_count": 85,
   "metadata": {},
   "outputs": [
    {
     "data": {
      "text/plain": [
       "[99, 83, 87, 85, 94, 85, 97, 88, 80, 92]"
      ]
     },
     "execution_count": 85,
     "metadata": {},
     "output_type": "execute_result"
    }
   ],
   "source": [
    "np.random.randint(80,100,size=(1,10)).tolist()[0] # 生成列表随机列表1个，10个元素。"
   ]
  },
  {
   "cell_type": "code",
   "execution_count": null,
   "metadata": {},
   "outputs": [],
   "source": []
  },
  {
   "cell_type": "code",
   "execution_count": 3,
   "metadata": {},
   "outputs": [
    {
     "data": {
      "text/plain": [
       "array([['r', 'N', 'I', 'K', 'P'],\n",
       "       ['h', 'X', 'K', 'F', 'B'],\n",
       "       ['J', 'l', 'A', 'R', 'D']], dtype='<U1')"
      ]
     },
     "execution_count": 3,
     "metadata": {},
     "output_type": "execute_result"
    }
   ],
   "source": [
    "import string\n",
    "np.random.choice([i for i in string.ascii_letters], size=(3,5))"
   ]
  },
  {
   "cell_type": "code",
   "execution_count": 27,
   "metadata": {},
   "outputs": [
    {
     "data": {
      "text/plain": [
       "array([['mvJpdL3', 'xOumla8', 'rtOenR5', 'lpCekF19', 'ebHson9',\n",
       "        'ebHson9', 'ebHson9', 'mvJpdL3', 'zwZnJc10', 'MlpdKa18']],\n",
       "      dtype='<U8')"
      ]
     },
     "execution_count": 27,
     "metadata": {},
     "output_type": "execute_result"
    }
   ],
   "source": [
    "import random\n",
    "l1 = [''.join(random.sample(string.ascii_letters,6)) + str(i) for i in range(20)]\n",
    "np.random.choice(l1, size=(1,10))"
   ]
  },
  {
   "cell_type": "code",
   "execution_count": 20,
   "metadata": {},
   "outputs": [
    {
     "data": {
      "text/plain": [
       "['r', 'L', 'f', 'A', 'I', 'D']"
      ]
     },
     "execution_count": 20,
     "metadata": {},
     "output_type": "execute_result"
    }
   ],
   "source": [
    "random.sample(string.ascii_letters,6)"
   ]
  }
 ],
 "metadata": {
  "interpreter": {
   "hash": "e2a7c3d20469dda411fd3211f02092a920078d1ca97c72d3dc7928b841d3a44a"
  },
  "kernelspec": {
   "display_name": "Python 3.9.8 64-bit",
   "language": "python",
   "name": "python3"
  },
  "language_info": {
   "codemirror_mode": {
    "name": "ipython",
    "version": 3
   },
   "file_extension": ".py",
   "mimetype": "text/x-python",
   "name": "python",
   "nbconvert_exporter": "python",
   "pygments_lexer": "ipython3",
   "version": "3.9.8"
  },
  "orig_nbformat": 4
 },
 "nbformat": 4,
 "nbformat_minor": 2
}
