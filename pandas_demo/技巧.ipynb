{
 "cells": [
  {
   "cell_type": "code",
   "execution_count": 22,
   "metadata": {},
   "outputs": [
    {
     "name": "stdout",
     "output_type": "stream",
     "text": [
      "True\n",
      "False\n",
      "False\n",
      "True\n"
     ]
    },
    {
     "data": {
      "text/plain": [
       "False"
      ]
     },
     "execution_count": 22,
     "metadata": {},
     "output_type": "execute_result"
    }
   ],
   "source": [
    "l1 = ['1', 2, 3, 4, 5]\n",
    "l2 = [1, 2, 3, 4, 5]\n",
    "d3 = {'2':3,\"k\":'4'}\n",
    "print(any([isinstance(i, str) for i in l1]))  #  有一个真是为真\n",
    "print(any([isinstance(i, str) for i in l2])) \n",
    "print(all([isinstance(i, str) for i in l1]))\n",
    "print(all([isinstance(i, int) for i in l2]))  # 全为真时 为真\n",
    "\n",
    "\n",
    "class JudgeType:\n",
    "    def __init__(self, obj) -> None:\n",
    "        self.obj = obj\n",
    "\n",
    "        \n",
    "    def is_str(self):\n",
    "        return isinstance(self.obj, str)\n",
    "\n",
    "    def is_int(self):\n",
    "        return isinstance(self.obj, int)\n",
    "\n",
    "    def is_str_list(self):\n",
    "        return all([isinstance(i, str) for i in self.obj])\n",
    "\n",
    "    def is_int_list(self):\n",
    "        return all([isinstance(i, int) for i in self.obj])\n",
    "\n",
    "    def is_int_dict(self):\n",
    "        return all([isinstance(i, int) for i in self.obj.values()])\n",
    "\n",
    "\n",
    "ss = JudgeType(d3)\n",
    "ss.is_int_dict()\n",
    "\n"
   ]
  }
 ],
 "metadata": {
  "interpreter": {
   "hash": "e2a7c3d20469dda411fd3211f02092a920078d1ca97c72d3dc7928b841d3a44a"
  },
  "kernelspec": {
   "display_name": "Python 3.9.8 64-bit",
   "language": "python",
   "name": "python3"
  },
  "language_info": {
   "codemirror_mode": {
    "name": "ipython",
    "version": 3
   },
   "file_extension": ".py",
   "mimetype": "text/x-python",
   "name": "python",
   "nbconvert_exporter": "python",
   "pygments_lexer": "ipython3",
   "version": "3.9.8"
  },
  "orig_nbformat": 4
 },
 "nbformat": 4,
 "nbformat_minor": 2
}
