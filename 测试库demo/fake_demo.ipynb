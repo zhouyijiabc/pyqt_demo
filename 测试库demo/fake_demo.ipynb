{
 "cells": [
  {
   "cell_type": "code",
   "execution_count": 2,
   "metadata": {},
   "outputs": [
    {
     "name": "stdout",
     "output_type": "stream",
     "text": [
      "黄颖\n",
      "320724199208144260\n",
      "香港特别行政区玉英县西夏吴街q座 777185\n"
     ]
    }
   ],
   "source": [
    "from faker import Faker\n",
    "from time import sleep\n",
    "\n",
    "fake = Faker(locale='zh-CN')\n",
    "print(fake.name())\n",
    "print(fake.ssn())\n",
    "print(fake.address())\n",
    "\n",
    "\n",
    "\n",
    "fake_func_list = ['aba','add_provider','address','administrative_unit','am_pm','android_platform_token','ascii_company_email','ascii_email','ascii_free_email','ascii_safe_email','bank_country','bban',\n",
    "'binary','boolean','bothify','bs','building_number','cache_pattern','catch_phrase','century','chrome','city','city_name','city_suffix','color','color_name','company','company_email','company_prefix',\n",
    "'company_suffix','coordinate','country','country_calling_code','country_code','credit_card_expire','credit_card_full','credit_card_number','credit_card_provider','credit_card_security_code','cryptocurrency',\n",
    "'cryptocurrency_code','cryptocurrency_name','csv','currency','currency_code','currency_name','currency_symbol','current_country','current_country_code','date','date_between','date_between_dates','date_object',\n",
    "'date_of_birth','date_this_century','date_this_decade','date_this_month','date_this_year','date_time','date_time_ad','date_time_between','date_time_between_dates','date_time_this_century','date_time_this_decade',\n",
    "'date_time_this_month','date_time_this_year','day_of_month','day_of_week','del_arguments','dga','district','domain_name','domain_word','dsv','ean','ean13','ean8','email','factories','file_extension','file_name',\n",
    "'file_path','firefox','first_name','first_name_female','first_name_male','first_name_nonbinary','first_romanized_name','fixed_width','format','free_email','free_email_domain','future_date','future_datetime',\n",
    " 'generator_attrs','get_arguments','get_formatter','get_providers','hex_color','hexify','hostname','http_method','iana_id','iban','image','image_url','internet_explorer','ios_platform_token','ipv4','ipv4_network_class',\n",
    " 'ipv4_private','ipv4_public','ipv6','isbn10','isbn13','iso8601','items','job','json','language_code','language_name','last_name','last_name_female','last_name_male','last_name_nonbinary','last_romanized_name','latitude',\n",
    " 'latlng','lexify','license_plate','linux_platform_token','linux_processor','local_latlng','locale','locales','localized_ean','localized_ean13','localized_ean8','location_on_land','longitude','mac_address','mac_platform_token','mac_processor','md5',\n",
    " 'mime_type','month','month_name','msisdn','name','name_female','name_male','name_nonbinary','nic_handle','nic_handles','null_boolean','numerify','opera','paragraph','paragraphs','parse','password','past_date','past_datetime',\n",
    " 'phone_number','phonenumber_prefix','port_number','postcode','prefix','prefix_female','prefix_male','prefix_nonbinary','pricetag','profile','provider','providers','province','psv','pybool','pydecimal','pydict','pyfloat',\n",
    " 'pyint','pyiterable','pylist','pyset','pystr','pystr_format','pystruct','pytimezone','pytuple','random','random_choices','random_digit','random_digit_not_null','random_digit_not_null_or_empty','random_digit_or_empty','random_element',\n",
    " 'random_elements','random_int','random_letter','random_letters','random_lowercase_letter','random_number','random_sample','random_uppercase_letter','randomize_nb_elements','rgb_color','rgb_css_color','ripe_id','romanized_name','safari',\n",
    " 'safe_color_name','safe_domain_name','safe_email','safe_hex_color','seed','seed_instance','seed_locale','sentence','sentences','set_arguments','set_formatter','sha1','sha256','simple_profile','slug','ssn','street_address','street_name','street_suffix',\n",
    " 'suffix','suffix_female','suffix_male','suffix_nonbinary','swift','swift11','swift8','tar','text','texts','time','time_delta','time_object','time_series','timezone','tld','tsv','unique','unix_device','unix_partition','unix_time','upc_a','upc_e','uri',\n",
    " 'uri_extension','uri_page','uri_path','url','user_agent','user_name','uuid4','weights','windows_platform_token','word','words','year','zip']\n",
    "fake_func_list = list(map(lambda x: 'fake.' + x + '()', fake_func_list))\n",
    "unprint_list = ['fake.binary()','fake.zip()','fake.tar()']\n",
    "# print(fake_func_list) \n",
    "# for index,func in enumerate(fake_func_list):\n",
    "#     try:\n",
    "#         if func in unprint_list:\n",
    "#             pass\n",
    "#         else:\n",
    "#             print(f'{func}:  ', eval(func))\n",
    "#             sleep(1)\n",
    "#     except Exception as e:\n",
    "#         print(e)\n",
    "\n"
   ]
  },
  {
   "cell_type": "code",
   "execution_count": 6,
   "metadata": {},
   "outputs": [],
   "source": [
    "import pandas as pd\n",
    "import random\n",
    "def get_fake_table(table_num, table_size):\n",
    "    \n",
    "    for table in range(table_num):\n",
    "        file_name = f'fake{table}.xlsx'\n",
    "        all_data = []\n",
    "        for size in range(table_size):\n",
    "            fake_data = fake.simple_profile()\n",
    "            fake_data['job'] = fake.job()\n",
    "            fake_data['country'] = fake.country()\n",
    "            fake_data['phone_num'] = fake.phone_number()\n",
    "            fake_data['salary'] = random.randint(3000,15000)\n",
    "\n",
    "            all_data.append(fake_data)\n",
    "\n",
    "        df = pd.DataFrame(all_data)\n",
    "        df.to_excel(file_name, index=False)\n",
    "\n",
    "get_fake_table(3, 50)\n",
    "\n"
   ]
  },
  {
   "cell_type": "code",
   "execution_count": null,
   "metadata": {},
   "outputs": [],
   "source": [
    "unprint_list = ['fake.binary()','fake.zip()','fake.tar()']"
   ]
  }
 ],
 "metadata": {
  "interpreter": {
   "hash": "e2a7c3d20469dda411fd3211f02092a920078d1ca97c72d3dc7928b841d3a44a"
  },
  "kernelspec": {
   "display_name": "Python 3.9.8 64-bit",
   "language": "python",
   "name": "python3"
  },
  "language_info": {
   "codemirror_mode": {
    "name": "ipython",
    "version": 3
   },
   "file_extension": ".py",
   "mimetype": "text/x-python",
   "name": "python",
   "nbconvert_exporter": "python",
   "pygments_lexer": "ipython3",
   "version": "3.9.8"
  },
  "orig_nbformat": 4
 },
 "nbformat": 4,
 "nbformat_minor": 2
}
