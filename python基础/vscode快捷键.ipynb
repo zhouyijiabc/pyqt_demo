{
 "cells": [
  {
   "cell_type": "markdown",
   "metadata": {},
   "source": [
    "1. 注释\n",
    "    - 单行注释 \n",
    "    - 多行注释\n",
    "2. 移动行 alt + up/down\n",
    "3. 显示/隐藏左侧目录栏 ctrl + b\n",
    "4. 复制当前行：shift + alt +up/down\n",
    "5. 移动选中的行 ALT + UP/DOWN \n",
    "6. 删除当前行：shift + ctrl + k  ctrl + x\n",
    "7. CTRL + D 批量更改变量（多按几次）\n",
    "8. CTRL+ENTER 光标在任意位置换行\n",
    "9. CTRL + LEFT/RIGHT 光标跳到下一个单词\n",
    "10. 代码格式化：shift + alt +f\n",
    "11. 控制台终端显示与隐藏：ctrl + ~\n",
    "12. 查找文件/安装vs code 插件地址：ctrl + p\n",
    "13. 行减少缩进: ctrl + ]\n",
    "14. 行增加缩进: ctrl + [\n",
    "15. 字体放大/缩小: ctrl + ( + 或 - )\n",
    "16. 裁剪尾随空格(去掉一行的末尾那些没用的空格) : ctrl + shift + x\n",
    "17. 拆分编辑器 : ctrl + 1/2/3\n",
    "18. 快速回到顶部 ： ctrl + home\n",
    "19. 快速回到底部 : ctrl + end\n",
    "20. 选中代码 ： shift + 鼠标左键\n",
    "21. 多行同时添加内容（光标） ：ctrl + alt + up/down\n",
    "22. 全局替换：ctrl + shift + h\n",
    "23. 当前文件替换：ctrl + h\n",
    "\n",
    "\n",
    "\n",
    "\n"
   ]
  },
  {
   "cell_type": "code",
   "execution_count": null,
   "metadata": {},
   "outputs": [],
   "source": [
    "print('hello')\n",
    "print('hello')\n",
    "print('hello')\n",
    "print('hello')\n",
    "print('hello')\n",
    "print('hello')\n",
    "print('hello')\n",
    "print('hello')"
   ]
  }
 ],
 "metadata": {
  "interpreter": {
   "hash": "e2a7c3d20469dda411fd3211f02092a920078d1ca97c72d3dc7928b841d3a44a"
  },
  "kernelspec": {
   "display_name": "Python 3.9.8 64-bit",
   "language": "python",
   "name": "python3"
  },
  "language_info": {
   "name": "python",
   "version": "3.9.8"
  },
  "orig_nbformat": 4
 },
 "nbformat": 4,
 "nbformat_minor": 2
}
