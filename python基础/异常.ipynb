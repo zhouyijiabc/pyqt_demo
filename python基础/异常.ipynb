{
 "cells": [
  {
   "cell_type": "code",
   "execution_count": 2,
   "metadata": {},
   "outputs": [
    {
     "name": "stdout",
     "output_type": "stream",
     "text": [
      "继续执行\n"
     ]
    }
   ],
   "source": [
    "# python assert(断言)，用于判断一个表达式，在表达式条件为False的时候触发异常\n",
    "# 断言可以在条件不满足程序运行的情况下直接返回错误，而不必等待程序运行后出现崩溃的情况\n",
    "# python 常见异常\n",
    "\"\"\"\n",
    "ZeroDivisionError:   0 不能作为除数，触发的异常\n",
    "TypeError: 不同类型的数据相加，触发的异常\n",
    "NameError: 字符未定义，触发的异常\n",
    "SyntaxError: 语法错误，引发的异常\n",
    "FileNotFoundError:  打开不存在的文件，引发的异常\n",
    "ValueError: 值错误。引发的异常\n",
    "\n",
    "try/except...else\n",
    "try/except 语句还有一个可选的 else 子句，如果使用这个子句，那么必须放在所有的 except 子句之后。\n",
    "else 子句将在 try 子句没有发生任何异常的时候执行\n",
    "\n",
    "\n",
    "try-finally\n",
    "try-finally 语句无论是否发生异常都将执行最后的代码。\n",
    "\n",
    "\n",
    "Python 使用 raise 语句抛出一个指定的异常。\n",
    "\n",
    "\n",
    "\"\"\"\n",
    "\n",
    "a = 3\n",
    "assert(a>1)\n",
    "print('继续执行')"
   ]
  },
  {
   "cell_type": "code",
   "execution_count": 4,
   "metadata": {},
   "outputs": [
    {
     "ename": "AssertionError",
     "evalue": "",
     "output_type": "error",
     "traceback": [
      "\u001b[1;31m---------------------------------------------------------------------------\u001b[0m",
      "\u001b[1;31mAssertionError\u001b[0m                            Traceback (most recent call last)",
      "Input \u001b[1;32mIn [4]\u001b[0m, in \u001b[0;36m<module>\u001b[1;34m\u001b[0m\n\u001b[0;32m      1\u001b[0m a \u001b[38;5;241m=\u001b[39m \u001b[38;5;241m3\u001b[39m\n\u001b[1;32m----> 2\u001b[0m \u001b[38;5;28;01massert\u001b[39;00m(a \u001b[38;5;241m<\u001b[39m \u001b[38;5;241m1\u001b[39m)\n\u001b[0;32m      3\u001b[0m \u001b[38;5;28mprint\u001b[39m(\u001b[38;5;124m'\u001b[39m\u001b[38;5;124m继续执行\u001b[39m\u001b[38;5;124m'\u001b[39m)\n",
      "\u001b[1;31mAssertionError\u001b[0m: "
     ]
    }
   ],
   "source": [
    "a = 3\n",
    "assert(a < 1)\n",
    "print('继续执行')"
   ]
  }
 ],
 "metadata": {
  "interpreter": {
   "hash": "e2a7c3d20469dda411fd3211f02092a920078d1ca97c72d3dc7928b841d3a44a"
  },
  "kernelspec": {
   "display_name": "Python 3.9.8 64-bit",
   "language": "python",
   "name": "python3"
  },
  "language_info": {
   "codemirror_mode": {
    "name": "ipython",
    "version": 3
   },
   "file_extension": ".py",
   "mimetype": "text/x-python",
   "name": "python",
   "nbconvert_exporter": "python",
   "pygments_lexer": "ipython3",
   "version": "3.9.8"
  },
  "orig_nbformat": 4
 },
 "nbformat": 4,
 "nbformat_minor": 2
}
